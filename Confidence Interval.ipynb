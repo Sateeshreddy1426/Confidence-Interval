{
 "cells": [
  {
   "cell_type": "code",
   "execution_count": 4,
   "id": "ef126ec5-c541-4f46-8c04-ba198ed45da5",
   "metadata": {},
   "outputs": [],
   "source": [
    "import scipy.stats as stats\n",
    "import numpy as np"
   ]
  },
  {
   "cell_type": "markdown",
   "id": "f3dabaa6-f4fe-4619-8bfa-964664f66f79",
   "metadata": {},
   "source": [
    "# Build 99% Confidence Interval Using Sample Standard Deviation"
   ]
  },
  {
   "cell_type": "code",
   "execution_count": 6,
   "id": "3aeddc12-6bfa-4328-90d2-2750e38864c8",
   "metadata": {},
   "outputs": [],
   "source": [
    "k=[1.13, 1.55, 1.43, 0.92, 1.25, 1.36, 1.32, 0.85, 1.07, 1.48, 1.20, 1.33, 1.18, 1.22, 1.29]"
   ]
  },
  {
   "cell_type": "code",
   "execution_count": 18,
   "id": "be8c9603-2b77-4cfb-991c-bb411b110b2c",
   "metadata": {},
   "outputs": [
    {
     "data": {
      "text/plain": [
       "1.2386666666666666"
      ]
     },
     "execution_count": 18,
     "metadata": {},
     "output_type": "execute_result"
    }
   ],
   "source": [
    "mean=np.mean(k)\n",
    "mean"
   ]
  },
  {
   "cell_type": "code",
   "execution_count": 44,
   "id": "682bf8ed-7d8a-4ac1-880f-55b3661819c1",
   "metadata": {},
   "outputs": [
    {
     "data": {
      "text/plain": [
       "0.19316412956959936"
      ]
     },
     "execution_count": 44,
     "metadata": {},
     "output_type": "execute_result"
    }
   ],
   "source": [
    "sam_std=np.std(k,ddof=1)   # for sample standard deviation ddof=1\n",
    "sam_std"
   ]
  },
  {
   "cell_type": "code",
   "execution_count": null,
   "id": "f16498d0-e40b-49b7-b159-344773390a54",
   "metadata": {},
   "outputs": [],
   "source": [
    "# we have to calculate the critical value"
   ]
  },
  {
   "cell_type": "code",
   "execution_count": 46,
   "id": "91e598f8-b84e-4055-aa01-91bb312035c7",
   "metadata": {},
   "outputs": [
    {
     "data": {
      "text/plain": [
       "2.976842734370834"
      ]
     },
     "execution_count": 46,
     "metadata": {},
     "output_type": "execute_result"
    }
   ],
   "source": [
    "t_critical=stats.t.ppf(0.995,14)\n",
    "t_critical"
   ]
  },
  {
   "cell_type": "code",
   "execution_count": null,
   "id": "629802fa-c4d8-4836-a7b4-fb0a02925a7f",
   "metadata": {},
   "outputs": [],
   "source": [
    "# Margin of Error"
   ]
  },
  {
   "cell_type": "code",
   "execution_count": 50,
   "id": "96a83116-0960-415a-a9f3-b4810a7edca9",
   "metadata": {},
   "outputs": [
    {
     "data": {
      "text/plain": [
       "0.14846932822817596"
      ]
     },
     "execution_count": 50,
     "metadata": {},
     "output_type": "execute_result"
    }
   ],
   "source": [
    "moe1=t_critical*(sam_std/np.sqrt(15))\n",
    "moe1"
   ]
  },
  {
   "cell_type": "code",
   "execution_count": null,
   "id": "51e1bbbd-4c72-4e85-a4a3-d287fb52535a",
   "metadata": {},
   "outputs": [],
   "source": [
    "# Minimum Confidence Interval"
   ]
  },
  {
   "cell_type": "code",
   "execution_count": 54,
   "id": "e759bf78-8c28-4694-b750-6aa410d08063",
   "metadata": {},
   "outputs": [
    {
     "data": {
      "text/plain": [
       "1.0901973384384906"
      ]
     },
     "execution_count": 54,
     "metadata": {},
     "output_type": "execute_result"
    }
   ],
   "source": [
    "Min_Ci=mean-moe1\n",
    "Min_Ci"
   ]
  },
  {
   "cell_type": "code",
   "execution_count": null,
   "id": "ffe0efa0-3357-4401-8b83-020a8bff60c8",
   "metadata": {},
   "outputs": [],
   "source": [
    "# Maximum Confidence Interval"
   ]
  },
  {
   "cell_type": "code",
   "execution_count": 58,
   "id": "61cbf2e9-8b14-4c28-b801-80223482b016",
   "metadata": {},
   "outputs": [
    {
     "data": {
      "text/plain": [
       "1.3871359948948425"
      ]
     },
     "execution_count": 58,
     "metadata": {},
     "output_type": "execute_result"
    }
   ],
   "source": [
    "Max_Ci=mean+moe1\n",
    "Max_Ci"
   ]
  },
  {
   "cell_type": "code",
   "execution_count": null,
   "id": "f40e7b30-9e48-41a0-b04d-ec283c030b77",
   "metadata": {},
   "outputs": [],
   "source": [
    "# The 99% confidence interval for the mean number of characters printed before the print-head fails is from 1.090 million characters to 1.387 million characters."
   ]
  },
  {
   "cell_type": "code",
   "execution_count": null,
   "id": "977edbdb-8b9b-457b-89e4-61f0bc197c5f",
   "metadata": {},
   "outputs": [],
   "source": [
    "# steps taken and the rationale behind using the t-distribution for this task."
   ]
  },
  {
   "cell_type": "code",
   "execution_count": null,
   "id": "c9aaebf2-a234-4acc-8c31-bce1c638231a",
   "metadata": {},
   "outputs": [],
   "source": [
    "# 1. the sample size is small n<30\n",
    "# 2. Here we don't know the population standard deviation. when we don't know the population standard deviation we go for T-Test\n",
    "# 3. I found Critical value using confidence interval and degrees of Freedom\n",
    "# 4. I found the Margin of error using critical value*(sample standard deviation/sqrt(15))\n",
    "# 5. I found the sample standard deviation using np.std(k,ddof),herd ddof=1 for sample standard deviation\n",
    "# 6. At last I found the minimum Confidence Interval and Maximum Confidence Interval"
   ]
  },
  {
   "cell_type": "markdown",
   "id": "0a2c44ba-55d8-479a-b330-3abef2641435",
   "metadata": {},
   "source": [
    "# Build 99% Confidence Interval Using Known Population Standard Deviation"
   ]
  },
  {
   "cell_type": "code",
   "execution_count": 12,
   "id": "31c1f1fa-bce5-4962-bf1c-7eef104c9346",
   "metadata": {},
   "outputs": [
    {
     "data": {
      "text/plain": [
       "2.5758293035489004"
      ]
     },
     "execution_count": 12,
     "metadata": {},
     "output_type": "execute_result"
    }
   ],
   "source": [
    "z_test=stats.norm.ppf(0.995)\n",
    "z_test"
   ]
  },
  {
   "cell_type": "code",
   "execution_count": null,
   "id": "f5569cf0-331c-40ef-9a46-3b84ef918e00",
   "metadata": {},
   "outputs": [],
   "source": [
    "# Margin Of Error"
   ]
  },
  {
   "cell_type": "code",
   "execution_count": 22,
   "id": "2e73fae5-138c-41f9-9429-6028df80a641",
   "metadata": {},
   "outputs": [
    {
     "data": {
      "text/plain": [
       "0.13301525327090588"
      ]
     },
     "execution_count": 22,
     "metadata": {},
     "output_type": "execute_result"
    }
   ],
   "source": [
    "moe=z_test*(0.2/np.sqrt(15))\n",
    "moe"
   ]
  },
  {
   "cell_type": "code",
   "execution_count": 14,
   "id": "4f109549-e4ce-4eb7-84c7-4fb260478bc2",
   "metadata": {},
   "outputs": [],
   "source": [
    "# Build Confidence Interval"
   ]
  },
  {
   "cell_type": "code",
   "execution_count": null,
   "id": "f43b8aed-47c0-417f-bb7e-6772d1fd4162",
   "metadata": {},
   "outputs": [],
   "source": [
    "# Minimum Confidence Interval"
   ]
  },
  {
   "cell_type": "code",
   "execution_count": 26,
   "id": "30ddb268-4a48-428e-b55f-1c0b14531665",
   "metadata": {},
   "outputs": [
    {
     "data": {
      "text/plain": [
       "1.1056514133957607"
      ]
     },
     "execution_count": 26,
     "metadata": {},
     "output_type": "execute_result"
    }
   ],
   "source": [
    "Min_CI=mean-moe\n",
    "Min_CI"
   ]
  },
  {
   "cell_type": "code",
   "execution_count": 28,
   "id": "94e3f1d4-bb59-4500-8c8f-69daf591e1bf",
   "metadata": {},
   "outputs": [],
   "source": [
    "# Maximum Confidence Interval"
   ]
  },
  {
   "cell_type": "code",
   "execution_count": 30,
   "id": "18903c0f-637d-4580-830e-4ae4b3160e99",
   "metadata": {},
   "outputs": [
    {
     "data": {
      "text/plain": [
       "1.3716819199375725"
      ]
     },
     "execution_count": 30,
     "metadata": {},
     "output_type": "execute_result"
    }
   ],
   "source": [
    "Max_CI=mean+moe\n",
    "Max_CI"
   ]
  },
  {
   "cell_type": "code",
   "execution_count": null,
   "id": "4bc61c16-3fa5-4aff-b700-446788fd3213",
   "metadata": {},
   "outputs": [],
   "source": [
    "# The confidence interval tells us that we are 99% confident the true population mean lies between 1.1056 and 1.3716 million characters."
   ]
  }
 ],
 "metadata": {
  "kernelspec": {
   "display_name": "Python 3 (ipykernel)",
   "language": "python",
   "name": "python3"
  },
  "language_info": {
   "codemirror_mode": {
    "name": "ipython",
    "version": 3
   },
   "file_extension": ".py",
   "mimetype": "text/x-python",
   "name": "python",
   "nbconvert_exporter": "python",
   "pygments_lexer": "ipython3",
   "version": "3.12.4"
  }
 },
 "nbformat": 4,
 "nbformat_minor": 5
}
